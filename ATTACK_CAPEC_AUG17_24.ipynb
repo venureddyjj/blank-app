{
  "nbformat": 4,
  "nbformat_minor": 0,
  "metadata": {
    "colab": {
      "provenance": [],
      "mount_file_id": "1dmtHB517bcMG4cAaLh5kafN1fEW6y9h-",
      "authorship_tag": "ABX9TyMkRJ7TfwvZtg7roq/mQt8w",
      "include_colab_link": true
    },
    "kernelspec": {
      "name": "python3",
      "display_name": "Python 3"
    },
    "language_info": {
      "name": "python"
    }
  },
  "cells": [
    {
      "cell_type": "markdown",
      "metadata": {
        "id": "view-in-github",
        "colab_type": "text"
      },
      "source": [
        "<a href=\"https://colab.research.google.com/github/venureddyjj/blank-app/blob/main/ATTACK_CAPEC_AUG17_24.ipynb\" target=\"_parent\"><img src=\"https://colab.research.google.com/assets/colab-badge.svg\" alt=\"Open In Colab\"/></a>"
      ]
    },
    {
      "cell_type": "code",
      "execution_count": 12,
      "metadata": {
        "colab": {
          "base_uri": "https://localhost:8080/",
          "height": 35
        },
        "id": "747yJgHRfrBu",
        "outputId": "3d4ffc11-eca4-4b94-8814-9301dd72a62d"
      },
      "outputs": [
        {
          "output_type": "execute_result",
          "data": {
            "text/plain": [
              "'/content/drive/My Drive'"
            ],
            "application/vnd.google.colaboratory.intrinsic+json": {
              "type": "string"
            }
          },
          "metadata": {},
          "execution_count": 12
        }
      ],
      "source": [
        "pwd"
      ]
    },
    {
      "cell_type": "code",
      "source": [
        "cd /content/drive/MyDrive\n"
      ],
      "metadata": {
        "colab": {
          "base_uri": "https://localhost:8080/"
        },
        "id": "R181Mly8gHB2",
        "outputId": "aae08805-50f2-4545-c9b7-12ba9e1a68b0"
      },
      "execution_count": 13,
      "outputs": [
        {
          "output_type": "stream",
          "name": "stdout",
          "text": [
            "/content/drive/MyDrive\n"
          ]
        }
      ]
    },
    {
      "cell_type": "code",
      "source": [
        "import pandas as pd\n",
        "import json"
      ],
      "metadata": {
        "id": "L96pucNCgKGn"
      },
      "execution_count": 14,
      "outputs": []
    },
    {
      "cell_type": "code",
      "source": [
        "df_attack_main = pd.read_json('/content/drive/MyDrive/cti/enterprise-attack/enterprise-attack.json')"
      ],
      "metadata": {
        "id": "sCvqBrxUgOLv"
      },
      "execution_count": 15,
      "outputs": []
    },
    {
      "cell_type": "code",
      "source": [
        "df_attack_main"
      ],
      "metadata": {
        "id": "6CAVngVrgcu6"
      },
      "execution_count": null,
      "outputs": []
    },
    {
      "cell_type": "code",
      "source": [
        "df_attack_db = pd.json_normalize(df_attack_main['objects'])"
      ],
      "metadata": {
        "id": "gX5bzbgGgi_p"
      },
      "execution_count": 17,
      "outputs": []
    },
    {
      "cell_type": "code",
      "source": [
        "df_attack_db"
      ],
      "metadata": {
        "id": "tMyj9ZdDg397"
      },
      "execution_count": null,
      "outputs": []
    },
    {
      "cell_type": "code",
      "source": [
        "df_attack_attack_pattern=df_attack_db[df_attack_db['type'].str.contains('attack-pattern')]"
      ],
      "metadata": {
        "id": "ZRFlTnpkg-i3"
      },
      "execution_count": 19,
      "outputs": []
    },
    {
      "cell_type": "code",
      "source": [
        "len(df_attack_attack_pattern)"
      ],
      "metadata": {
        "colab": {
          "base_uri": "https://localhost:8080/"
        },
        "id": "D2kcXptUhdOp",
        "outputId": "2167f00a-37a2-4e80-e5c0-c0cb45f953a9"
      },
      "execution_count": 20,
      "outputs": [
        {
          "output_type": "execute_result",
          "data": {
            "text/plain": [
              "768"
            ]
          },
          "metadata": {},
          "execution_count": 20
        }
      ]
    },
    {
      "cell_type": "code",
      "source": [
        "attack_depre_name = df_attack_attack_pattern['x_mitre_deprecated'].unique()"
      ],
      "metadata": {
        "id": "G2DN-Dydhp_2"
      },
      "execution_count": 21,
      "outputs": []
    },
    {
      "cell_type": "code",
      "source": [
        "attack_revo_name = df_attack_attack_pattern['revoked'].unique()"
      ],
      "metadata": {
        "id": "bR_JJn6e-E4L"
      },
      "execution_count": 22,
      "outputs": []
    },
    {
      "cell_type": "code",
      "source": [
        "values_to_remove = [True, ]"
      ],
      "metadata": {
        "id": "qUWq2qp--M-s"
      },
      "execution_count": 23,
      "outputs": []
    },
    {
      "cell_type": "code",
      "source": [
        "attack_pattern_final = df_attack_attack_pattern[~df_attack_attack_pattern['x_mitre_deprecated'].isin(values_to_remove)& ~df_attack_attack_pattern['revoked'].isin(values_to_remove)]"
      ],
      "metadata": {
        "id": "X2Ag6MGO-eL9"
      },
      "execution_count": 24,
      "outputs": []
    },
    {
      "cell_type": "code",
      "source": [
        "len(attack_pattern_final)"
      ],
      "metadata": {
        "colab": {
          "base_uri": "https://localhost:8080/"
        },
        "id": "psuPxXdz-6-M",
        "outputId": "6e65c752-ef03-4ce0-91f2-0a9b3756beae"
      },
      "execution_count": 25,
      "outputs": [
        {
          "output_type": "execute_result",
          "data": {
            "text/plain": [
              "625"
            ]
          },
          "metadata": {},
          "execution_count": 25
        }
      ]
    },
    {
      "cell_type": "markdown",
      "source": [
        "**CAPEC**"
      ],
      "metadata": {
        "id": "MgzCLbLe_ZAs"
      }
    },
    {
      "cell_type": "code",
      "source": [
        "df_capec_main = pd.read_json('/content/drive/MyDrive/cti/capec/2.1/stix-capec.json')"
      ],
      "metadata": {
        "id": "nfZ9NSoQ_dQ5"
      },
      "execution_count": 26,
      "outputs": []
    },
    {
      "cell_type": "code",
      "source": [
        "df_capec_db = pd.json_normalize(df_capec_main['objects'])"
      ],
      "metadata": {
        "id": "0PPxi9_-AnDV"
      },
      "execution_count": 27,
      "outputs": []
    },
    {
      "cell_type": "code",
      "source": [
        "df_capec_attack_pattern=df_capec_db[df_capec_db['type'].str.contains('attack-pattern')]"
      ],
      "metadata": {
        "id": "jyj670IdAxxI"
      },
      "execution_count": 28,
      "outputs": []
    },
    {
      "cell_type": "code",
      "source": [
        "capec_values_to_remove = ['Deprecated']"
      ],
      "metadata": {
        "id": "nRCG5QB8BVAY"
      },
      "execution_count": 29,
      "outputs": []
    },
    {
      "cell_type": "code",
      "source": [
        "capec_attack_pattern_final = df_capec_attack_pattern[~df_capec_attack_pattern['x_capec_status'].isin(capec_values_to_remove)]"
      ],
      "metadata": {
        "id": "P8ggWlfoBWkU"
      },
      "execution_count": 30,
      "outputs": []
    },
    {
      "cell_type": "code",
      "source": [
        "len(capec_attack_pattern_final)"
      ],
      "metadata": {
        "colab": {
          "base_uri": "https://localhost:8080/"
        },
        "id": "01nRmsdoBwrw",
        "outputId": "2be65728-d253-489e-c683-3d39d24fa165"
      },
      "execution_count": 31,
      "outputs": [
        {
          "output_type": "execute_result",
          "data": {
            "text/plain": [
              "559"
            ]
          },
          "metadata": {},
          "execution_count": 31
        }
      ]
    },
    {
      "cell_type": "code",
      "source": [
        "capec_attack_pattern_attack = capec_attack_pattern_final[capec_attack_pattern_final['external_references'].apply(lambda x: any(ref.get('source_name') == 'ATTACK' for ref in x))]"
      ],
      "metadata": {
        "id": "IALE1c4eCQSh"
      },
      "execution_count": 32,
      "outputs": []
    },
    {
      "cell_type": "code",
      "source": [
        "len(capec_attack_pattern_attack)"
      ],
      "metadata": {
        "colab": {
          "base_uri": "https://localhost:8080/"
        },
        "id": "lerZq1UoCpnk",
        "outputId": "4282f313-7ddd-440d-bb0e-6db6b18f990d"
      },
      "execution_count": 34,
      "outputs": [
        {
          "output_type": "execute_result",
          "data": {
            "text/plain": [
              "177"
            ]
          },
          "metadata": {},
          "execution_count": 34
        }
      ]
    },
    {
      "cell_type": "code",
      "source": [
        "stixeye_attack_capec = pd.concat([capec_attack_pattern_attack, attack_pattern_final])"
      ],
      "metadata": {
        "id": "pBp6s6vkCzEh"
      },
      "execution_count": 35,
      "outputs": []
    },
    {
      "cell_type": "code",
      "source": [
        "len(stixeye_attack_capec)"
      ],
      "metadata": {
        "colab": {
          "base_uri": "https://localhost:8080/"
        },
        "id": "yzF3UpSYDDXb",
        "outputId": "967c66d1-ca29-4a53-c6d0-f0106159a9ed"
      },
      "execution_count": 36,
      "outputs": [
        {
          "output_type": "execute_result",
          "data": {
            "text/plain": [
              "802"
            ]
          },
          "metadata": {},
          "execution_count": 36
        }
      ]
    },
    {
      "cell_type": "markdown",
      "source": [
        "**Used Case1:Brute Force: Password Guessing(T) or Password Brute Forcing(C)**"
      ],
      "metadata": {
        "id": "_QkYTaDVEXCW"
      }
    },
    {
      "cell_type": "code",
      "source": [
        "search_word = 'T1110.001'\n",
        "mask = stixeye_attack_capec.apply(lambda x: x.astype(str).str.contains(search_word, case=False)).any(axis=1)"
      ],
      "metadata": {
        "id": "-VO6imB6EWYt"
      },
      "execution_count": 37,
      "outputs": []
    },
    {
      "cell_type": "code",
      "source": [
        "count = mask.sum()"
      ],
      "metadata": {
        "id": "Iy2z0IQMEqHA"
      },
      "execution_count": 38,
      "outputs": []
    },
    {
      "cell_type": "code",
      "source": [
        "print(f\"Number of occurrences of '{search_word}': {count}\")"
      ],
      "metadata": {
        "colab": {
          "base_uri": "https://localhost:8080/"
        },
        "id": "X7FTr277Etmn",
        "outputId": "63639564-494e-4b54-c0c6-a11ec11c5540"
      },
      "execution_count": 39,
      "outputs": [
        {
          "output_type": "stream",
          "name": "stdout",
          "text": [
            "Number of occurrences of 'T1110.001': 3\n"
          ]
        }
      ]
    },
    {
      "cell_type": "code",
      "source": [
        "search_rows = stixeye_attack_capec[mask]"
      ],
      "metadata": {
        "id": "5S19tUoAEyER"
      },
      "execution_count": 42,
      "outputs": []
    },
    {
      "cell_type": "code",
      "source": [
        "from IPython.display import display, HTML"
      ],
      "metadata": {
        "id": "kH7C_H-2FB-o"
      },
      "execution_count": 43,
      "outputs": []
    },
    {
      "cell_type": "code",
      "source": [
        "search_capec_execution_flow_attack = pd.DataFrame(search_rows['x_capec_execution_flow'])"
      ],
      "metadata": {
        "id": "XgmTc-3ZFF1h"
      },
      "execution_count": 44,
      "outputs": []
    },
    {
      "cell_type": "code",
      "source": [
        "from bs4 import BeautifulSoup"
      ],
      "metadata": {
        "id": "uTxV7fTZF504"
      },
      "execution_count": 45,
      "outputs": []
    },
    {
      "cell_type": "code",
      "source": [
        "def extract_table(html_str):\n",
        "    if pd.isna(html_str):  # Check if the value is NaN\n",
        "        return ''\n",
        "    soup = BeautifulSoup(html_str, 'html.parser')\n",
        "    table = soup.find('table')\n",
        "    return str(table)"
      ],
      "metadata": {
        "id": "3WuegXF0F_nY"
      },
      "execution_count": 46,
      "outputs": []
    },
    {
      "cell_type": "code",
      "source": [
        "search_capec_execution_flow_attack['x_capec_execution_flow_table'] = search_capec_execution_flow_attack['x_capec_execution_flow'].apply(extract_table)"
      ],
      "metadata": {
        "id": "nsQSHacrGP22"
      },
      "execution_count": 48,
      "outputs": []
    },
    {
      "cell_type": "code",
      "source": [
        "print(\"Brute Force: Password Guessing(T) or Password Brute Forcing(C)\")\n",
        "display(HTML(search_capec_execution_flow_attack.to_html(escape=False)))"
      ],
      "metadata": {
        "colab": {
          "base_uri": "https://localhost:8080/",
          "height": 725
        },
        "id": "6pB0A1UuGheg",
        "outputId": "9aa156dd-7c9b-4553-8407-105db490b708"
      },
      "execution_count": 50,
      "outputs": [
        {
          "output_type": "stream",
          "name": "stdout",
          "text": [
            "Brute Force: Password Guessing(T) or Password Brute Forcing(C)\n"
          ]
        },
        {
          "output_type": "display_data",
          "data": {
            "text/plain": [
              "<IPython.core.display.HTML object>"
            ],
            "text/html": [
              "<table border=\"1\" class=\"dataframe\">\n",
              "  <thead>\n",
              "    <tr style=\"text-align: right;\">\n",
              "      <th></th>\n",
              "      <th>x_capec_execution_flow</th>\n",
              "      <th>x_capec_execution_flow_table</th>\n",
              "    </tr>\n",
              "  </thead>\n",
              "  <tbody>\n",
              "    <tr>\n",
              "      <th>1354</th>\n",
              "      <td><h2> Execution Flow </h2><div><h3>Explore</h3><ol><li> <p> <b>Determine application's/system's password policy: </b>Determine the password policies of the target application/system.</p></li><table><tbody><tr><th>Techniques</th></tr><tr><td>Determine minimum and maximum allowed password lengths.</td></tr><tr><td>Determine format of allowed passwords (whether they are required or allowed to contain numbers, special characters, etc.).</td></tr><tr><td>Determine account lockout policy (a strict account lockout policy will prevent brute force attacks).</td></tr></tbody></table></ol></div><div><h3>Exploit</h3><ol><li> <p> <b>Brute force password: </b>Given the finite space of possible passwords dictated by the password policy determined in the previous step, try all possible passwords for a known user ID until application/system grants access.</p></li><table><tbody><tr><th>Techniques</th></tr><tr><td>Manually or automatically enter all possible passwords through the application/system's interface. In most systems, start with the shortest and simplest possible passwords, because most users tend to select such passwords if allowed to do so.</td></tr><tr><td>Perform an offline dictionary attack or a rainbow table attack against a known password hash.</td></tr></tbody></table></ol></div></td>\n",
              "      <td><table><tbody><tr><th>Techniques</th></tr><tr><td>Determine minimum and maximum allowed password lengths.</td></tr><tr><td>Determine format of allowed passwords (whether they are required or allowed to contain numbers, special characters, etc.).</td></tr><tr><td>Determine account lockout policy (a strict account lockout policy will prevent brute force attacks).</td></tr></tbody></table></td>\n",
              "    </tr>\n",
              "    <tr>\n",
              "      <th>963</th>\n",
              "      <td>NaN</td>\n",
              "      <td></td>\n",
              "    </tr>\n",
              "    <tr>\n",
              "      <th>1094</th>\n",
              "      <td>NaN</td>\n",
              "      <td></td>\n",
              "    </tr>\n",
              "  </tbody>\n",
              "</table>"
            ]
          },
          "metadata": {}
        }
      ]
    },
    {
      "cell_type": "code",
      "source": [
        "import pandas as pd\n",
        "from IPython.display import display, HTML\n",
        "from bs4 import BeautifulSoup\n",
        "\n",
        "def search_and_extract_table(stixeye_attack_capec, search_word):\n",
        "    # Apply a mask to find rows containing the search word\n",
        "    mask = stixeye_attack_capec.apply(lambda x: x.astype(str).str.contains(search_word, case=False)).any(axis=1)\n",
        "    count = mask.sum()  # Count the number of matching rows\n",
        "\n",
        "    # Extract the matching rows\n",
        "    search_rows = stixeye_attack_capec[mask]\n",
        "    search_capec_execution_flow_attack = pd.DataFrame(search_rows['x_capec_execution_flow'])\n",
        "\n",
        "    # Function to extract table from HTML string\n",
        "    def extract_table(html_str):\n",
        "        if pd.isna(html_str):  # Check if the value is NaN\n",
        "            return ''\n",
        "        soup = BeautifulSoup(html_str, 'html.parser')\n",
        "        table = soup.find('table')\n",
        "        return str(table)\n",
        "\n",
        "    # Apply the extract_table function to the 'x_capec_execution_flow' column\n",
        "    search_capec_execution_flow_attack['x_capec_execution_flow_table'] = search_capec_execution_flow_attack['x_capec_execution_flow'].apply(extract_table)\n",
        "\n",
        "    # Display the result as HTML\n",
        "    display(HTML(search_capec_execution_flow_attack.to_html(escape=False)))\n",
        "\n",
        "    return search_capec_execution_flow_attack, count\n",
        "\n",
        "# Example usage\n",
        "# stixeye_attack_capec = pd.read_csv('your_dataframe.csv')  # Load your DataFrame\n",
        "# search_word = 'T1110.001'\n",
        "# search_and_extract_table(stixeye_attack_capec, search_word)\n"
      ],
      "metadata": {
        "id": "Ra1XfvIQMLm1"
      },
      "execution_count": 70,
      "outputs": []
    },
    {
      "cell_type": "code",
      "source": [
        "search_capec_execution_flow_attack, count = search_and_extract_table(stixeye_attack_capec, \"T1110.001\")"
      ],
      "metadata": {
        "colab": {
          "base_uri": "https://localhost:8080/",
          "height": 708
        },
        "id": "OnDrtsjTQc4a",
        "outputId": "60baf691-abde-4881-f323-2032636f76ed"
      },
      "execution_count": 71,
      "outputs": [
        {
          "output_type": "display_data",
          "data": {
            "text/plain": [
              "<IPython.core.display.HTML object>"
            ],
            "text/html": [
              "<table border=\"1\" class=\"dataframe\">\n",
              "  <thead>\n",
              "    <tr style=\"text-align: right;\">\n",
              "      <th></th>\n",
              "      <th>x_capec_execution_flow</th>\n",
              "      <th>x_capec_execution_flow_table</th>\n",
              "    </tr>\n",
              "  </thead>\n",
              "  <tbody>\n",
              "    <tr>\n",
              "      <th>1354</th>\n",
              "      <td><h2> Execution Flow </h2><div><h3>Explore</h3><ol><li> <p> <b>Determine application's/system's password policy: </b>Determine the password policies of the target application/system.</p></li><table><tbody><tr><th>Techniques</th></tr><tr><td>Determine minimum and maximum allowed password lengths.</td></tr><tr><td>Determine format of allowed passwords (whether they are required or allowed to contain numbers, special characters, etc.).</td></tr><tr><td>Determine account lockout policy (a strict account lockout policy will prevent brute force attacks).</td></tr></tbody></table></ol></div><div><h3>Exploit</h3><ol><li> <p> <b>Brute force password: </b>Given the finite space of possible passwords dictated by the password policy determined in the previous step, try all possible passwords for a known user ID until application/system grants access.</p></li><table><tbody><tr><th>Techniques</th></tr><tr><td>Manually or automatically enter all possible passwords through the application/system's interface. In most systems, start with the shortest and simplest possible passwords, because most users tend to select such passwords if allowed to do so.</td></tr><tr><td>Perform an offline dictionary attack or a rainbow table attack against a known password hash.</td></tr></tbody></table></ol></div></td>\n",
              "      <td><table><tbody><tr><th>Techniques</th></tr><tr><td>Determine minimum and maximum allowed password lengths.</td></tr><tr><td>Determine format of allowed passwords (whether they are required or allowed to contain numbers, special characters, etc.).</td></tr><tr><td>Determine account lockout policy (a strict account lockout policy will prevent brute force attacks).</td></tr></tbody></table></td>\n",
              "    </tr>\n",
              "    <tr>\n",
              "      <th>963</th>\n",
              "      <td>NaN</td>\n",
              "      <td></td>\n",
              "    </tr>\n",
              "    <tr>\n",
              "      <th>1094</th>\n",
              "      <td>NaN</td>\n",
              "      <td></td>\n",
              "    </tr>\n",
              "  </tbody>\n",
              "</table>"
            ]
          },
          "metadata": {}
        }
      ]
    },
    {
      "cell_type": "code",
      "source": [
        "search_capec_execution_flow_attack, count = search_and_extract_table(stixeye_attack_capec, \"Brute Force\")"
      ],
      "metadata": {
        "colab": {
          "base_uri": "https://localhost:8080/",
          "height": 1000
        },
        "id": "C1v6GbNnRbI6",
        "outputId": "fccb307a-1b3e-4b74-8e66-f2e43dde8e9a"
      },
      "execution_count": 72,
      "outputs": [
        {
          "output_type": "display_data",
          "data": {
            "text/plain": [
              "<IPython.core.display.HTML object>"
            ],
            "text/html": [
              "<table border=\"1\" class=\"dataframe\">\n",
              "  <thead>\n",
              "    <tr style=\"text-align: right;\">\n",
              "      <th></th>\n",
              "      <th>x_capec_execution_flow</th>\n",
              "      <th>x_capec_execution_flow_table</th>\n",
              "    </tr>\n",
              "  </thead>\n",
              "  <tbody>\n",
              "    <tr>\n",
              "      <th>2</th>\n",
              "      <td><h2> Execution Flow </h2><div><h3>Explore</h3><ol><li> <p> <b>Survey: </b>The attacker surveys the target application, possibly as a valid and authenticated user</p></li><table><tbody><tr><th>Techniques</th></tr><tr><td>Spidering web sites for all available links</td></tr><tr><td>Brute force guessing of resource names</td></tr><tr><td>Brute force guessing of user names / credentials</td></tr><tr><td>Brute force guessing of function names / actions</td></tr></tbody></table><li> <p> <b>Identify Functionality: </b>At each step, the attacker notes the resource or functionality access mechanism invoked upon performing specific actions</p></li><table><tbody><tr><th>Techniques</th></tr><tr><td>Use the web inventory of all forms and inputs and apply attack data to those inputs.</td></tr><tr><td>Use a packet sniffer to capture and record network traffic</td></tr><tr><td>Execute the software in a debugger and record API calls into the operating system or important libraries. This might occur in an environment other than a production environment, in order to find weaknesses that can be exploited in a production environment.</td></tr></tbody></table></ol></div><div><h3>Experiment</h3><ol><li> <p> <b>Iterate over access capabilities: </b>Possibly as a valid user, the attacker then tries to access each of the noted access mechanisms directly in order to perform functions not constrained by the ACLs.</p></li><table><tbody><tr><th>Techniques</th></tr><tr><td>Fuzzing of API parameters (URL parameters, OS API parameters, protocol parameters)</td></tr></tbody></table></ol></div></td>\n",
              "      <td><table><tbody><tr><th>Techniques</th></tr><tr><td>Spidering web sites for all available links</td></tr><tr><td>Brute force guessing of resource names</td></tr><tr><td>Brute force guessing of user names / credentials</td></tr><tr><td>Brute force guessing of function names / actions</td></tr></tbody></table></td>\n",
              "    </tr>\n",
              "    <tr>\n",
              "      <th>115</th>\n",
              "      <td><h2> Execution Flow </h2><div><h3>Explore</h3><ol><li> <p> <b>Determine secret testing procedure: </b>Determine how a potential guess of the secret may be tested. This may be accomplished by comparing some manipulation of the secret to a known value, use of the secret to manipulate some known set of data and determining if the result displays specific characteristics (for example, turning cryptotext into plaintext), or by submitting the secret to some external authority and having the external authority respond as to whether the value was the correct secret. Ideally, the attacker will want to determine the correctness of their guess independently since involvement of an external authority is usually slower and can provide an indication to the defender that a brute-force attack is being attempted.</p></li><table><tbody><tr><th>Techniques</th></tr><tr><td>Determine if there is a way to parallelize the attack. Most brute force attacks can take advantage of parallel techniques by dividing the search space among available resources, thus dividing the average time to success by the number of resources available. If there is a single choke point, such as a need to check answers with an external authority, the attackers' position is significantly degraded.</td></tr></tbody></table><li> <p> <b>Reduce search space: </b>Find ways to reduce the secret space. The smaller the attacker can make the space they need to search for the secret value, the greater their chances for success. There are a great many ways in which the search space may be reduced.</p></li><table><tbody><tr><th>Techniques</th></tr><tr><td>If possible, determine how the secret was selected. If the secret was determined algorithmically (such as by a random number generator) the algorithm may have patterns or dependencies that reduce the size of the secret space. If the secret was created by a human, behavioral factors may, if not completely reduce the space, make some types of secrets more likely than others. (For example, humans may use the same secrets in multiple places or use secrets that look or sound familiar for ease of recall.)</td></tr><tr><td>If the secret was chosen algorithmically, cryptanalysis can be applied to the algorithm to discover patterns in this algorithm. (This is true even if the secret is not used in cryptography.) Periodicity, the need for seed values, or weaknesses in the generator all can result in a significantly smaller secret space.</td></tr><tr><td>If the secret was chosen by a person, social engineering and simple espionage can indicate patterns in their secret selection. If old secrets can be learned (and a target may feel they have little need to protect a secret that has been replaced) hints as to their selection preferences can be gleaned. These can include character substitutions a target employs, patterns in sources (dates, famous phrases, music lyrics, family members, etc.). Once these patterns have been determined, the initial efforts of a brute-force attack can focus on these areas.</td></tr><tr><td>Some algorithmic techniques for secret selection may leave indicators that can be tested for relatively easily and which could then be used to eliminate large areas of the search space for consideration. For example, it may be possible to determine that a secret does or does not start with a given character after a relatively small number of tests. Alternatively, it might be possible to discover the length of the secret relatively easily. These discoveries would significantly reduce the search space, thus increasing speed with which the attacker discovers the secret.</td></tr></tbody></table><li> <p> <b>Expand victory conditions: </b>It is sometimes possible to expand victory conditions. For example, the attacker might not need to know the exact secret but simply needs a value that produces the same result using a one-way function. While doing this does not reduce the size of the search space, the presence of multiple victory conditions does reduce the likely amount of time that the attacker will need to explore the space before finding a workable value.</p></li></ol></div><div><h3>Exploit</h3><ol><li> <p> <b>Gather information so attack can be performed independently.: </b>If possible, gather the necessary information so a successful search can be determined without consultation of an external authority. This can be accomplished by capturing cryptotext (if the goal is decoding the text) or the encrypted password dictionary (if the goal is learning passwords).</p></li></ol></div></td>\n",
              "      <td><table><tbody><tr><th>Techniques</th></tr><tr><td>Determine if there is a way to parallelize the attack. Most brute force attacks can take advantage of parallel techniques by dividing the search space among available resources, thus dividing the average time to success by the number of resources available. If there is a single choke point, such as a need to check answers with an external authority, the attackers' position is significantly degraded.</td></tr></tbody></table></td>\n",
              "    </tr>\n",
              "    <tr>\n",
              "      <th>352</th>\n",
              "      <td><h2> Execution Flow </h2><div><h3>Explore</h3><ol><li> <p> <b>Obtain useful contextual detailed information about the targeted user or organization: </b>An adversary collects useful contextual detailed information about the targeted user or organization in order to craft a more deceptive and enticing message to lure the target into responding.</p></li><table><tbody><tr><th>Techniques</th></tr><tr><td>Conduct web searching research of target. See also: CAPEC-118.</td></tr><tr><td>Identify trusted associates, colleagues and friends of target. See also: CAPEC-118.</td></tr><tr><td>Utilize social engineering attack patterns such as Pretexting. See also: CAPEC-407.</td></tr><tr><td>Collect social information via dumpster diving. See also: CAPEC-406.</td></tr><tr><td>Collect social information via traditional sources. See also: CAPEC-118.</td></tr><tr><td>Collect social information via Non-traditional sources. See also: CAPEC-118.</td></tr></tbody></table></ol></div><div><h3>Experiment</h3><ol><li> <p> <b>Optional: Obtain domain name and certificate to spoof legitimate site: </b>This optional step can be used to help the adversary impersonate the legitimate site more convincingly. The adversary can use homograph attacks to convince users that they are using the legitimate website. Note that this step is not required for phishing attacks, and many phishing attacks simply supply URLs containing an IP address and no SSL certificate.</p></li><table><tbody><tr><th>Techniques</th></tr><tr><td>Optionally obtain a domain name that visually looks similar to the legitimate site's domain name. An example is www.paypaI.com vs. www.paypal.com (the first one contains a capital i, instead of a lower case L).</td></tr><tr><td>Optionally obtain a legitimate SSL certificate for the new domain name.</td></tr></tbody></table><li> <p> <b>Optional: Explore legitimate website and create duplicate: </b>An adversary creates a website (optionally at a URL that looks similar to the original URL) that closely resembles the website that they are trying to impersonate. That website will typically have a login form for the victim to put in their authentication credentials. There can be different variations on a theme here.</p></li><table><tbody><tr><th>Techniques</th></tr><tr><td>Use spidering software to get copy of web pages on legitimate site.</td></tr><tr><td>Manually save copies of required web pages from legitimate site.</td></tr><tr><td>Create new web pages that have the legitimate site's look at feel, but contain completely new content.</td></tr></tbody></table><li> <p> <b>Optional: Build variants of the website with very specific user information e.g., living area, etc.: </b>Once the adversary has their website which duplicates a legitimate website, they need to build very custom user related information in it. For example, they could create multiple variants of the website which would target different living area users by providing information such as local news, local weather, etc. so that the user believes this is a new feature from the website.</p></li><table><tbody><tr><th>Techniques</th></tr><tr><td>Integrate localized information in the web pages created to duplicate the original website. Those localized information could be dynamically generated based on unique key or IP address of the future victim.</td></tr></tbody></table></ol></div><div><h3>Exploit</h3><ol><li> <p> <b>Convince user to enter sensitive information on adversary's site.: </b>An adversary sends a message (typically an e-mail) to the victim that has some sort of a call to action to get the user to click on the link included in the e-mail (which takes the victim to adversary's website) and log in. The key is to get the victim to believe that the message is coming from a legitimate entity trusted by the victim or with which the victim or does business and that the website pointed to by the URL in the e-mail is the legitimate website. A call to action will usually need to sound legitimate and urgent enough to prompt action from the user.</p></li><table><tbody><tr><th>Techniques</th></tr><tr><td>Send the user a message from a spoofed legitimate-looking e-mail address that asks the user to click on the included link.</td></tr><tr><td>Place phishing link in post to online forum.</td></tr></tbody></table><li> <p> <b>Use stolen credentials to log into legitimate site: </b>Once the adversary captures some sensitive information through phishing (login credentials, credit card information, etc.) the adversary can leverage this information. For instance, the adversary can use the victim's login credentials to log into their bank account and transfer money to an account of their choice.</p></li><table><tbody><tr><th>Techniques</th></tr><tr><td>Log in to the legitimate site using another user's supplied credentials.</td></tr></tbody></table></ol></div></td>\n",
              "      <td><table><tbody><tr><th>Techniques</th></tr><tr><td>Conduct web searching research of target. See also: CAPEC-118.</td></tr><tr><td>Identify trusted associates, colleagues and friends of target. See also: CAPEC-118.</td></tr><tr><td>Utilize social engineering attack patterns such as Pretexting. See also: CAPEC-407.</td></tr><tr><td>Collect social information via dumpster diving. See also: CAPEC-406.</td></tr><tr><td>Collect social information via traditional sources. See also: CAPEC-118.</td></tr><tr><td>Collect social information via Non-traditional sources. See also: CAPEC-118.</td></tr></tbody></table></td>\n",
              "    </tr>\n",
              "    <tr>\n",
              "      <th>426</th>\n",
              "      <td><h2> Execution Flow </h2><div><h3>Explore</h3><ol><li> <p> <b>Survey: </b>The attacker surveys the target application, possibly as a valid and authenticated user.</p></li><table><tbody><tr><th>Techniques</th></tr><tr><td>Spider the web site for all available links.</td></tr><tr><td>Brute force to guess all function names/action with different privileges.</td></tr></tbody></table></ol></div><div><h3>Experiment</h3><ol><li> <p> <b>Identify weak points in access control configurations: </b>The attacker probes the access control for functions and data identified in the Explore phase to identify potential weaknesses in how the access controls are configured.</p></li><table><tbody><tr><th>Techniques</th></tr><tr><td>The attacker attempts authenticated access to targeted functions and data.</td></tr><tr><td>The attacker attempts unauthenticated access to targeted functions and data.</td></tr><tr><td>The attacker attempts indirect and side channel access to targeted functions and data.</td></tr></tbody></table></ol></div><div><h3>Exploit</h3><ol><li> <p> <b>Access the function or data bypassing the access control: </b>The attacker executes the function or accesses the data identified in the Explore phase bypassing the access control.</p></li><table><tbody><tr><th>Techniques</th></tr><tr><td>The attacker executes the function or accesses the data not authorized to them.</td></tr></tbody></table></ol></div></td>\n",
              "      <td><table><tbody><tr><th>Techniques</th></tr><tr><td>Spider the web site for all available links.</td></tr><tr><td>Brute force to guess all function names/action with different privileges.</td></tr></tbody></table></td>\n",
              "    </tr>\n",
              "    <tr>\n",
              "      <th>519</th>\n",
              "      <td><h2> Execution Flow </h2><div><h3>Experiment</h3><ol><li> <p> <b>Investigate account lockout behavior of system: </b>Investigate the security features present in the system that may trigger an account lockout</p></li><table><tbody><tr><th>Techniques</th></tr><tr><td>Analyze system documentation to find list of events that could potentially cause account lockout</td></tr><tr><td>Obtain user account in system and attempt to lock it out by sending malformed or incorrect data repeatedly</td></tr><tr><td>Determine another user's login ID, and attempt to brute force the password (or other credentials) for it a predetermined number of times, or until the system provides an indication that the account is locked out.</td></tr></tbody></table><li> <p> <b>Obtain list of user accounts to lock out: </b>Generate a list of valid user accounts to lock out</p></li><table><tbody><tr><th>Techniques</th></tr><tr><td>Obtain list of authorized users using another attack pattern, such as SQL Injection.</td></tr><tr><td>Attempt to create accounts if possible; system should indicate if a user ID is already taken.</td></tr><tr><td>Attempt to brute force user IDs if system reveals whether a given user ID is valid or not upon failed login attempts.</td></tr></tbody></table></ol></div><div><h3>Exploit</h3><ol><li> <p> <b>Lock Out Accounts: </b>Perform lockout procedure for all accounts that the attacker wants to lock out.</p></li><table><tbody><tr><th>Techniques</th></tr><tr><td>For each user ID to be locked out, perform the lockout procedure discovered in the first step.</td></tr></tbody></table></ol></div></td>\n",
              "      <td><table><tbody><tr><th>Techniques</th></tr><tr><td>Analyze system documentation to find list of events that could potentially cause account lockout</td></tr><tr><td>Obtain user account in system and attempt to lock it out by sending malformed or incorrect data repeatedly</td></tr><tr><td>Determine another user's login ID, and attempt to brute force the password (or other credentials) for it a predetermined number of times, or until the system provides an indication that the account is locked out.</td></tr></tbody></table></td>\n",
              "    </tr>\n",
              "    <tr>\n",
              "      <th>559</th>\n",
              "      <td><h2> Execution Flow </h2><div><h3>Explore</h3><ol><li> <p> <b>Survey the application for Indicators of Susceptibility: </b>Using a variety of methods, until one is found that applies to the target, the adversary probes for cookies, session tokens, or entry points that bypass identifiers altogether.</p></li><table><tbody><tr><th>Techniques</th></tr><tr><td>Spider all available pages</td></tr><tr><td>Attack known bad interfaces</td></tr><tr><td>Search outward-facing configuration and properties files for identifiers.</td></tr></tbody></table></ol></div><div><h3>Experiment</h3><ol><li> <p> <b>Fetch samples: </b>The adversary fetches many samples of identifiers. This may be through legitimate access (logging in, legitimate connections, etc.) or via systematic probing.</p></li><table><tbody><tr><th>Techniques</th></tr><tr><td>An adversary makes many anonymous connections and records the session IDs assigned.</td></tr><tr><td>An adversary makes authorized connections and records the session tokens or credentials issued.</td></tr><tr><td>An adversary gains access to (legitimately or illegitimately) a nearby system (e.g., in the same operations network, DMZ, or local network) and makes a connection from it, attempting to gain the same privileges as a trusted system.</td></tr></tbody></table></ol></div><div><h3>Exploit</h3><ol><li> <p> <b>Impersonate: </b>An adversary can use successful experiments or authentications to impersonate an authorized user or system or to laterally move within a system or application</p></li><li> <p> <b>Spoofing: </b>Malicious data can be injected into the target system or into a victim user's system by an adversary. The adversary can also pose as a legitimate user to perform social engineering attacks.</p></li><li> <p> <b>Data Exfiltration: </b>The adversary can obtain sensitive data contained within the system or application.</p></li></ol></div></td>\n",
              "      <td><table><tbody><tr><th>Techniques</th></tr><tr><td>Spider all available pages</td></tr><tr><td>Attack known bad interfaces</td></tr><tr><td>Search outward-facing configuration and properties files for identifiers.</td></tr></tbody></table></td>\n",
              "    </tr>\n",
              "    <tr>\n",
              "      <th>1354</th>\n",
              "      <td><h2> Execution Flow </h2><div><h3>Explore</h3><ol><li> <p> <b>Determine application's/system's password policy: </b>Determine the password policies of the target application/system.</p></li><table><tbody><tr><th>Techniques</th></tr><tr><td>Determine minimum and maximum allowed password lengths.</td></tr><tr><td>Determine format of allowed passwords (whether they are required or allowed to contain numbers, special characters, etc.).</td></tr><tr><td>Determine account lockout policy (a strict account lockout policy will prevent brute force attacks).</td></tr></tbody></table></ol></div><div><h3>Exploit</h3><ol><li> <p> <b>Brute force password: </b>Given the finite space of possible passwords dictated by the password policy determined in the previous step, try all possible passwords for a known user ID until application/system grants access.</p></li><table><tbody><tr><th>Techniques</th></tr><tr><td>Manually or automatically enter all possible passwords through the application/system's interface. In most systems, start with the shortest and simplest possible passwords, because most users tend to select such passwords if allowed to do so.</td></tr><tr><td>Perform an offline dictionary attack or a rainbow table attack against a known password hash.</td></tr></tbody></table></ol></div></td>\n",
              "      <td><table><tbody><tr><th>Techniques</th></tr><tr><td>Determine minimum and maximum allowed password lengths.</td></tr><tr><td>Determine format of allowed passwords (whether they are required or allowed to contain numbers, special characters, etc.).</td></tr><tr><td>Determine account lockout policy (a strict account lockout policy will prevent brute force attacks).</td></tr></tbody></table></td>\n",
              "    </tr>\n",
              "    <tr>\n",
              "      <th>1432</th>\n",
              "      <td><h2> Execution Flow </h2><div><h3>Explore</h3><ol><li> <p>Scan for user accounts with set SPN values</p></li><table><tbody><tr><th>Techniques</th></tr><tr><td>These can be found via Powershell or LDAP queries, as well as enumerating startup name accounts and other means.</td></tr></tbody></table><li> <p>Request service tickets</p></li><table><tbody><tr><th>Techniques</th></tr><tr><td>Using user account's SPN value, request other service tickets from Active Directory</td></tr></tbody></table></ol></div><div><h3>Experiment</h3><ol><li> <p>Extract ticket and save to disk</p></li><table><tbody><tr><th>Techniques</th></tr><tr><td>Certain tools like Mimikatz can extract local tickets and save them to memory/disk.</td></tr></tbody></table></ol></div><div><h3>Exploit</h3><ol><li> <p>Crack the encrypted ticket to harvest plain text credentials</p></li><table><tbody><tr><th>Techniques</th></tr><tr><td>Leverage a brute force application/script on the hashed value offline until cracked. The shorter the password, the easier it is to crack.</td></tr></tbody></table></ol></div></td>\n",
              "      <td><table><tbody><tr><th>Techniques</th></tr><tr><td>These can be found via Powershell or LDAP queries, as well as enumerating startup name accounts and other means.</td></tr></tbody></table></td>\n",
              "    </tr>\n",
              "    <tr>\n",
              "      <th>1608</th>\n",
              "      <td><h2> Execution Flow </h2><div><h3>Explore</h3><ol><li> <p> <b>Determine application's/system's password policy: </b>Determine the password policies of the target application/system.</p></li><table><tbody><tr><th>Techniques</th></tr><tr><td>Determine minimum and maximum allowed password lengths.</td></tr><tr><td>Determine format of allowed passwords (whether they are required or allowed to contain numbers, special characters, etc.).</td></tr><tr><td>Determine account lockout policy (a strict account lockout policy will prevent brute force attacks).</td></tr></tbody></table><li> <p> <b>Obtain password hashes: </b>An attacker gets access to the database table storing hashes of passwords or potentially just discovers a hash of an individual password.</p></li><table><tbody><tr><th>Techniques</th></tr><tr><td>Obtain copy of database table or flat file containing password hashes (by breaking access controls, using SQL Injection, etc.)</td></tr><tr><td>Obtain password hashes from platform-specific storage locations (e.g. Windows registry)</td></tr><tr><td>Sniff network packets containing password hashes.</td></tr></tbody></table></ol></div><div><h3>Exploit</h3><ol><li> <p> <b>Run rainbow table-based password cracking tool: </b>An attacker finds or writes a password cracking tool that uses a previously computed rainbow table for the right hashing algorithm. It helps if the attacker knows what hashing algorithm was used by the password system.</p></li><table><tbody><tr><th>Techniques</th></tr><tr><td>Run rainbow table-based password cracking tool such as Ophcrack or RainbowCrack. Reduction function must depend on application's/system's password policy.</td></tr></tbody></table></ol></div></td>\n",
              "      <td><table><tbody><tr><th>Techniques</th></tr><tr><td>Determine minimum and maximum allowed password lengths.</td></tr><tr><td>Determine format of allowed passwords (whether they are required or allowed to contain numbers, special characters, etc.).</td></tr><tr><td>Determine account lockout policy (a strict account lockout policy will prevent brute force attacks).</td></tr></tbody></table></td>\n",
              "    </tr>\n",
              "    <tr>\n",
              "      <th>1631</th>\n",
              "      <td><h2> Execution Flow </h2><div><h3>Explore</h3><ol><li> <p> <b>Acquire known credentials: </b>The adversary must obtain known credentials in order to access the target system, application, or service.</p></li><table><tbody><tr><th>Techniques</th></tr><tr><td>An adversary purchases breached username/password combinations or leaked hashed passwords from the dark web.</td></tr><tr><td>An adversary leverages a key logger or phishing attack to steal user credentials as they are provided.</td></tr><tr><td>An adversary conducts a sniffing attack to steal credentials as they are transmitted.</td></tr><tr><td>An adversary gains access to a database and exfiltrates password hashes.</td></tr><tr><td>An adversary examines outward-facing configuration and properties files to discover hardcoded credentials.</td></tr></tbody></table><li> <p> <b>Determine target's password policy: </b>Determine the password policies of the target system/application to determine if the known credentials fit within the specified criteria.</p></li><table><tbody><tr><th>Techniques</th></tr><tr><td>Determine minimum and maximum allowed password lengths.</td></tr><tr><td>Determine format of allowed passwords (whether they are required or allowed to contain numbers, special characters, etc., or whether they are allowed to contain words from the dictionary).</td></tr><tr><td>Determine account lockout policy (a strict account lockout policy will prevent brute force attacks if multiple passwords are known for a single user account).</td></tr></tbody></table></ol></div><div><h3>Experiment</h3><ol><li> <p> <b>Attempt authentication: </b>Try each credential until the target grants access.</p></li><table><tbody><tr><th>Techniques</th></tr><tr><td>Manually or automatically enter each credential through the target's interface.</td></tr></tbody></table></ol></div><div><h3>Exploit</h3><ol><li> <p> <b>Impersonate: </b>An adversary can use successful experiments or authentications to impersonate an authorized user or system, or to laterally move within a system or application</p></li><li> <p> <b>Spoofing: </b>Malicious data can be injected into the target system or into a victim user's system by an adversary. The adversary can also pose as a legitimate user to perform social engineering attacks.</p></li><li> <p> <b>Data Exfiltration: </b>The adversary can obtain sensitive data contained within the system or application.</p></li></ol></div></td>\n",
              "      <td><table><tbody><tr><th>Techniques</th></tr><tr><td>An adversary purchases breached username/password combinations or leaked hashed passwords from the dark web.</td></tr><tr><td>An adversary leverages a key logger or phishing attack to steal user credentials as they are provided.</td></tr><tr><td>An adversary conducts a sniffing attack to steal credentials as they are transmitted.</td></tr><tr><td>An adversary gains access to a database and exfiltrates password hashes.</td></tr><tr><td>An adversary examines outward-facing configuration and properties files to discover hardcoded credentials.</td></tr></tbody></table></td>\n",
              "    </tr>\n",
              "    <tr>\n",
              "      <th>1659</th>\n",
              "      <td><h2> Execution Flow </h2><div><h3>Explore</h3><ol><li> <p> <b>Determine target's password policy: </b>Determine the password policies of the target system/application.</p></li><table><tbody><tr><th>Techniques</th></tr><tr><td>Determine minimum and maximum allowed password lengths.</td></tr><tr><td>Determine format of allowed passwords (whether they are required or allowed to contain numbers, special characters, etc., or whether they are allowed to contain words from the dictionary).</td></tr><tr><td>Determine account lockout policy (a strict account lockout policy will prevent brute force attacks).</td></tr></tbody></table><li> <p> <b>Select passwords: </b>Pick the passwords to be used in the attack (e.g. commonly used passwords, passwords tailored to individual users, etc.)</p></li><table><tbody><tr><th>Techniques</th></tr><tr><td>Select passwords based on common use or a particular user's additional details.</td></tr><tr><td>Select passwords based on the target's password complexity policies.</td></tr></tbody></table></ol></div><div><h3>Exploit</h3><ol><li> <p> <b>Brute force password: </b>Given the finite space of possible passwords dictated by information determined in the previous steps, try each password for all known user accounts until the target grants access.</p></li><table><tbody><tr><th>Techniques</th></tr><tr><td>Manually or automatically enter the first password for each known user account through the target's interface. In most systems, start with the shortest and simplest possible passwords, because most users tend to select such passwords if allowed to do so.</td></tr><tr><td>Iterate through the remaining passwords for each known user account.</td></tr></tbody></table></ol></div></td>\n",
              "      <td><table><tbody><tr><th>Techniques</th></tr><tr><td>Determine minimum and maximum allowed password lengths.</td></tr><tr><td>Determine format of allowed passwords (whether they are required or allowed to contain numbers, special characters, etc., or whether they are allowed to contain words from the dictionary).</td></tr><tr><td>Determine account lockout policy (a strict account lockout policy will prevent brute force attacks).</td></tr></tbody></table></td>\n",
              "    </tr>\n",
              "    <tr>\n",
              "      <th>1827</th>\n",
              "      <td><h2> Execution Flow </h2><div><h3>Explore</h3><ol><li> <p> <b>Acquire known credentials: </b>The adversary must obtain known credentials in order to access the target system, application, or service.</p></li><table><tbody><tr><th>Techniques</th></tr><tr><td>An adversary purchases breached username/password combinations or leaked hashed passwords from the dark web.</td></tr><tr><td>An adversary leverages a key logger or phishing attack to steal user credentials as they are provided.</td></tr><tr><td>An adversary conducts a sniffing attack to steal credentials as they are transmitted.</td></tr><tr><td>An adversary gains access to a database and exfiltrates password hashes.</td></tr><tr><td>An adversary examines outward-facing configuration and properties files to discover hardcoded credentials.</td></tr></tbody></table><li> <p> <b>Determine target's password policy: </b>Determine the password policies of the target system/application to determine if the known credentials fit within the specified criteria.</p></li><table><tbody><tr><th>Techniques</th></tr><tr><td>Determine minimum and maximum allowed password lengths.</td></tr><tr><td>Determine format of allowed passwords (whether they are required or allowed to contain numbers, special characters, etc., or whether they are allowed to contain words from the dictionary).</td></tr><tr><td>Determine account lockout policy (a strict account lockout policy will prevent brute force attacks if multiple passwords are known for a single user account).</td></tr></tbody></table></ol></div><div><h3>Experiment</h3><ol><li> <p> <b>Attempt authentication: </b>Try each username/password combination until the target grants access.</p></li><table><tbody><tr><th>Techniques</th></tr><tr><td>Manually or automatically enter each username/password combination through the target's interface.</td></tr></tbody></table></ol></div><div><h3>Exploit</h3><ol><li> <p> <b>Impersonate: </b>An adversary can use successful experiments or authentications to impersonate an authorized user or system or to laterally move within a system or application</p></li><li> <p> <b>Spoofing: </b>Malicious data can be injected into the target system or into a victim user's system by an adversary. The adversary can also pose as a legitimate user to perform social engineering attacks.</p></li><li> <p> <b>Data Exfiltration: </b>The adversary can obtain sensitive data contained within the system or application.</p></li></ol></div></td>\n",
              "      <td><table><tbody><tr><th>Techniques</th></tr><tr><td>An adversary purchases breached username/password combinations or leaked hashed passwords from the dark web.</td></tr><tr><td>An adversary leverages a key logger or phishing attack to steal user credentials as they are provided.</td></tr><tr><td>An adversary conducts a sniffing attack to steal credentials as they are transmitted.</td></tr><tr><td>An adversary gains access to a database and exfiltrates password hashes.</td></tr><tr><td>An adversary examines outward-facing configuration and properties files to discover hardcoded credentials.</td></tr></tbody></table></td>\n",
              "    </tr>\n",
              "    <tr>\n",
              "      <th>1952</th>\n",
              "      <td>NaN</td>\n",
              "      <td></td>\n",
              "    </tr>\n",
              "    <tr>\n",
              "      <th>2421</th>\n",
              "      <td>NaN</td>\n",
              "      <td></td>\n",
              "    </tr>\n",
              "    <tr>\n",
              "      <th>938</th>\n",
              "      <td>NaN</td>\n",
              "      <td></td>\n",
              "    </tr>\n",
              "    <tr>\n",
              "      <th>963</th>\n",
              "      <td>NaN</td>\n",
              "      <td></td>\n",
              "    </tr>\n",
              "    <tr>\n",
              "      <th>1202</th>\n",
              "      <td>NaN</td>\n",
              "      <td></td>\n",
              "    </tr>\n",
              "    <tr>\n",
              "      <th>1238</th>\n",
              "      <td>NaN</td>\n",
              "      <td></td>\n",
              "    </tr>\n",
              "    <tr>\n",
              "      <th>1253</th>\n",
              "      <td>NaN</td>\n",
              "      <td></td>\n",
              "    </tr>\n",
              "    <tr>\n",
              "      <th>1268</th>\n",
              "      <td>NaN</td>\n",
              "      <td></td>\n",
              "    </tr>\n",
              "    <tr>\n",
              "      <th>1271</th>\n",
              "      <td>NaN</td>\n",
              "      <td></td>\n",
              "    </tr>\n",
              "    <tr>\n",
              "      <th>1331</th>\n",
              "      <td>NaN</td>\n",
              "      <td></td>\n",
              "    </tr>\n",
              "    <tr>\n",
              "      <th>1442</th>\n",
              "      <td>NaN</td>\n",
              "      <td></td>\n",
              "    </tr>\n",
              "    <tr>\n",
              "      <th>1464</th>\n",
              "      <td>NaN</td>\n",
              "      <td></td>\n",
              "    </tr>\n",
              "    <tr>\n",
              "      <th>1473</th>\n",
              "      <td>NaN</td>\n",
              "      <td></td>\n",
              "    </tr>\n",
              "    <tr>\n",
              "      <th>1476</th>\n",
              "      <td>NaN</td>\n",
              "      <td></td>\n",
              "    </tr>\n",
              "    <tr>\n",
              "      <th>1503</th>\n",
              "      <td>NaN</td>\n",
              "      <td></td>\n",
              "    </tr>\n",
              "    <tr>\n",
              "      <th>1658</th>\n",
              "      <td>NaN</td>\n",
              "      <td></td>\n",
              "    </tr>\n",
              "    <tr>\n",
              "      <th>1662</th>\n",
              "      <td>NaN</td>\n",
              "      <td></td>\n",
              "    </tr>\n",
              "  </tbody>\n",
              "</table>"
            ]
          },
          "metadata": {}
        }
      ]
    },
    {
      "cell_type": "code",
      "source": [
        "print(stixeye_attack_capec.loc[2])"
      ],
      "metadata": {
        "colab": {
          "base_uri": "https://localhost:8080/"
        },
        "id": "m7ns2NQHZE24",
        "outputId": "c2f84e76-4e3e-4e62-a810-a3440590feff"
      },
      "execution_count": 76,
      "outputs": [
        {
          "output_type": "stream",
          "name": "stdout",
          "text": [
            "created                                                 2014-06-23T00:00:00.000Z\n",
            "definition_type                                                              NaN\n",
            "id                             attack-pattern--92cdcd3d-d734-4442-afc3-4599f2...\n",
            "spec_version                                                                 2.1\n",
            "type                                                              attack-pattern\n",
            "                                                     ...                        \n",
            "first_seen                                                                   NaN\n",
            "last_seen                                                                    NaN\n",
            "x_mitre_first_seen_citation                                                  NaN\n",
            "x_mitre_last_seen_citation                                                   NaN\n",
            "x_mitre_collection_layers                                                    NaN\n",
            "Name: 2, Length: 75, dtype: object\n"
          ]
        }
      ]
    },
    {
      "cell_type": "code",
      "source": [
        "search_capec_execution_flow_attack, count = search_and_extract_table(stixeye_attack_capec, \"T1195.001\")"
      ],
      "metadata": {
        "colab": {
          "base_uri": "https://localhost:8080/",
          "height": 962
        },
        "id": "CKmzQWu2ia9t",
        "outputId": "af1e8f66-1627-49cf-cfa8-5092329436f8"
      },
      "execution_count": 82,
      "outputs": [
        {
          "output_type": "display_data",
          "data": {
            "text/plain": [
              "<IPython.core.display.HTML object>"
            ],
            "text/html": [
              "<table border=\"1\" class=\"dataframe\">\n",
              "  <thead>\n",
              "    <tr style=\"text-align: right;\">\n",
              "      <th></th>\n",
              "      <th>x_capec_execution_flow</th>\n",
              "      <th>x_capec_execution_flow_table</th>\n",
              "    </tr>\n",
              "  </thead>\n",
              "  <tbody>\n",
              "    <tr>\n",
              "      <th>1145</th>\n",
              "      <td>NaN</td>\n",
              "      <td></td>\n",
              "    </tr>\n",
              "    <tr>\n",
              "      <th>1154</th>\n",
              "      <td>NaN</td>\n",
              "      <td></td>\n",
              "    </tr>\n",
              "    <tr>\n",
              "      <th>1452</th>\n",
              "      <td>NaN</td>\n",
              "      <td></td>\n",
              "    </tr>\n",
              "    <tr>\n",
              "      <th>1573</th>\n",
              "      <td><h2> Execution Flow </h2><div><h3>Explore</h3><ol><li> <p> <b>Determine the relevant open-source code project to target: </b>The adversary will make the selection based on various criteria:<xhtml:ul></p></li></ol></div><div><h3>Experiment</h3><ol><li> <p> <b>Develop a plan for malicious contribution: </b>The adversary develops a plan to contribute malicious code, taking the following into consideration:<xhtml:ul></p></li></ol></div><div><h3>Exploit</h3><ol><li> <p> <b>Execute the plan for malicious contribution: </b>Write the code to be contributed based on the plan and then submit the contribution. Multiple commits, possibly using multiple identities, will help obscure the attack. Monitor the contribution site to try to determine if the code has been uploaded to the target system.</p></li></ol></div></td>\n",
              "      <td>None</td>\n",
              "    </tr>\n",
              "    <tr>\n",
              "      <th>2185</th>\n",
              "      <td>NaN</td>\n",
              "      <td></td>\n",
              "    </tr>\n",
              "    <tr>\n",
              "      <th>2337</th>\n",
              "      <td>NaN</td>\n",
              "      <td></td>\n",
              "    </tr>\n",
              "    <tr>\n",
              "      <th>2374</th>\n",
              "      <td><h2> Execution Flow </h2><div><h3>Explore</h3><ol><li> <p> <b>Identify target: </b>The adversary must first identify a target repository that is commonly used and whose owner/maintainer has either changed/deleted their username or transferred ownership of the repository and then deleted their account. The target should typically be a popular and widely used package, as to increase the scope of the attack.</p></li></ol></div><div><h3>Experiment</h3><ol><li> <p> <b>Recreate initial repository path: </b>The adversary re-registers the account that was renamed/deleted by the target repository's owner/maintainer and recreates the target repository with malicious code intended to exploit an application. These steps may need to happen in reverse (i.e., recreate repository and then rename an existing account to the target account) if protections are in place to prevent repository reuse.</p></li></ol></div><div><h3>Exploit</h3><ol><li> <p> <b>Exploit victims: </b>The adversary's malicious code is incorporated into applications that directly reference the initial repository, which further allows the adversary to conduct additional attacks.</p></li></ol></div></td>\n",
              "      <td>None</td>\n",
              "    </tr>\n",
              "    <tr>\n",
              "      <th>1014</th>\n",
              "      <td>NaN</td>\n",
              "      <td></td>\n",
              "    </tr>\n",
              "  </tbody>\n",
              "</table>"
            ]
          },
          "metadata": {}
        }
      ]
    },
    {
      "cell_type": "code",
      "source": [
        "from IPython.display import display"
      ],
      "metadata": {
        "id": "aA9mDS1YZ8Hf"
      },
      "execution_count": 78,
      "outputs": []
    },
    {
      "cell_type": "code",
      "source": [
        "display(stixeye_attack_capec.iloc[352].to_frame().T)"
      ],
      "metadata": {
        "colab": {
          "base_uri": "https://localhost:8080/",
          "height": 234
        },
        "id": "RY8AtOFnZ_ov",
        "outputId": "f463357c-5fa8-46f6-8a22-a10f90e5bc30"
      },
      "execution_count": 80,
      "outputs": [
        {
          "output_type": "display_data",
          "data": {
            "text/plain": [
              "                       created definition_type  \\\n",
              "1146  2018-04-18T17:59:24.739Z             NaN   \n",
              "\n",
              "                                                     id spec_version  \\\n",
              "1146  attack-pattern--3f18edba-28f4-4bb9-82c3-8aa60d...          NaN   \n",
              "\n",
              "                type definition.statement identity_class  \\\n",
              "1146  attack-pattern                  NaN            NaN   \n",
              "\n",
              "                      modified                     name  \\\n",
              "1146  2023-03-30T21:01:42.446Z  Supply Chain Compromise   \n",
              "\n",
              "                                    object_marking_refs  ...  \\\n",
              "1146  [marking-definition--fa42a846-8d90-4e51-bc29-7...  ...   \n",
              "\n",
              "     x_mitre_impact_type x_mitre_effective_permissions  \\\n",
              "1146                 NaN                           NaN   \n",
              "\n",
              "     x_mitre_network_requirements x_mitre_data_source_ref aliases first_seen  \\\n",
              "1146                          NaN                     NaN     NaN        NaN   \n",
              "\n",
              "     last_seen x_mitre_first_seen_citation x_mitre_last_seen_citation  \\\n",
              "1146       NaN                         NaN                        NaN   \n",
              "\n",
              "     x_mitre_collection_layers  \n",
              "1146                       NaN  \n",
              "\n",
              "[1 rows x 75 columns]"
            ],
            "text/html": [
              "\n",
              "  <div id=\"df-325b6d8e-5152-418e-b16f-77aac690c45a\" class=\"colab-df-container\">\n",
              "    <div>\n",
              "<style scoped>\n",
              "    .dataframe tbody tr th:only-of-type {\n",
              "        vertical-align: middle;\n",
              "    }\n",
              "\n",
              "    .dataframe tbody tr th {\n",
              "        vertical-align: top;\n",
              "    }\n",
              "\n",
              "    .dataframe thead th {\n",
              "        text-align: right;\n",
              "    }\n",
              "</style>\n",
              "<table border=\"1\" class=\"dataframe\">\n",
              "  <thead>\n",
              "    <tr style=\"text-align: right;\">\n",
              "      <th></th>\n",
              "      <th>created</th>\n",
              "      <th>definition_type</th>\n",
              "      <th>id</th>\n",
              "      <th>spec_version</th>\n",
              "      <th>type</th>\n",
              "      <th>definition.statement</th>\n",
              "      <th>identity_class</th>\n",
              "      <th>modified</th>\n",
              "      <th>name</th>\n",
              "      <th>object_marking_refs</th>\n",
              "      <th>...</th>\n",
              "      <th>x_mitre_impact_type</th>\n",
              "      <th>x_mitre_effective_permissions</th>\n",
              "      <th>x_mitre_network_requirements</th>\n",
              "      <th>x_mitre_data_source_ref</th>\n",
              "      <th>aliases</th>\n",
              "      <th>first_seen</th>\n",
              "      <th>last_seen</th>\n",
              "      <th>x_mitre_first_seen_citation</th>\n",
              "      <th>x_mitre_last_seen_citation</th>\n",
              "      <th>x_mitre_collection_layers</th>\n",
              "    </tr>\n",
              "  </thead>\n",
              "  <tbody>\n",
              "    <tr>\n",
              "      <th>1146</th>\n",
              "      <td>2018-04-18T17:59:24.739Z</td>\n",
              "      <td>NaN</td>\n",
              "      <td>attack-pattern--3f18edba-28f4-4bb9-82c3-8aa60d...</td>\n",
              "      <td>NaN</td>\n",
              "      <td>attack-pattern</td>\n",
              "      <td>NaN</td>\n",
              "      <td>NaN</td>\n",
              "      <td>2023-03-30T21:01:42.446Z</td>\n",
              "      <td>Supply Chain Compromise</td>\n",
              "      <td>[marking-definition--fa42a846-8d90-4e51-bc29-7...</td>\n",
              "      <td>...</td>\n",
              "      <td>NaN</td>\n",
              "      <td>NaN</td>\n",
              "      <td>NaN</td>\n",
              "      <td>NaN</td>\n",
              "      <td>NaN</td>\n",
              "      <td>NaN</td>\n",
              "      <td>NaN</td>\n",
              "      <td>NaN</td>\n",
              "      <td>NaN</td>\n",
              "      <td>NaN</td>\n",
              "    </tr>\n",
              "  </tbody>\n",
              "</table>\n",
              "<p>1 rows × 75 columns</p>\n",
              "</div>\n",
              "    <div class=\"colab-df-buttons\">\n",
              "\n",
              "  <div class=\"colab-df-container\">\n",
              "    <button class=\"colab-df-convert\" onclick=\"convertToInteractive('df-325b6d8e-5152-418e-b16f-77aac690c45a')\"\n",
              "            title=\"Convert this dataframe to an interactive table.\"\n",
              "            style=\"display:none;\">\n",
              "\n",
              "  <svg xmlns=\"http://www.w3.org/2000/svg\" height=\"24px\" viewBox=\"0 -960 960 960\">\n",
              "    <path d=\"M120-120v-720h720v720H120Zm60-500h600v-160H180v160Zm220 220h160v-160H400v160Zm0 220h160v-160H400v160ZM180-400h160v-160H180v160Zm440 0h160v-160H620v160ZM180-180h160v-160H180v160Zm440 0h160v-160H620v160Z\"/>\n",
              "  </svg>\n",
              "    </button>\n",
              "\n",
              "  <style>\n",
              "    .colab-df-container {\n",
              "      display:flex;\n",
              "      gap: 12px;\n",
              "    }\n",
              "\n",
              "    .colab-df-convert {\n",
              "      background-color: #E8F0FE;\n",
              "      border: none;\n",
              "      border-radius: 50%;\n",
              "      cursor: pointer;\n",
              "      display: none;\n",
              "      fill: #1967D2;\n",
              "      height: 32px;\n",
              "      padding: 0 0 0 0;\n",
              "      width: 32px;\n",
              "    }\n",
              "\n",
              "    .colab-df-convert:hover {\n",
              "      background-color: #E2EBFA;\n",
              "      box-shadow: 0px 1px 2px rgba(60, 64, 67, 0.3), 0px 1px 3px 1px rgba(60, 64, 67, 0.15);\n",
              "      fill: #174EA6;\n",
              "    }\n",
              "\n",
              "    .colab-df-buttons div {\n",
              "      margin-bottom: 4px;\n",
              "    }\n",
              "\n",
              "    [theme=dark] .colab-df-convert {\n",
              "      background-color: #3B4455;\n",
              "      fill: #D2E3FC;\n",
              "    }\n",
              "\n",
              "    [theme=dark] .colab-df-convert:hover {\n",
              "      background-color: #434B5C;\n",
              "      box-shadow: 0px 1px 3px 1px rgba(0, 0, 0, 0.15);\n",
              "      filter: drop-shadow(0px 1px 2px rgba(0, 0, 0, 0.3));\n",
              "      fill: #FFFFFF;\n",
              "    }\n",
              "  </style>\n",
              "\n",
              "    <script>\n",
              "      const buttonEl =\n",
              "        document.querySelector('#df-325b6d8e-5152-418e-b16f-77aac690c45a button.colab-df-convert');\n",
              "      buttonEl.style.display =\n",
              "        google.colab.kernel.accessAllowed ? 'block' : 'none';\n",
              "\n",
              "      async function convertToInteractive(key) {\n",
              "        const element = document.querySelector('#df-325b6d8e-5152-418e-b16f-77aac690c45a');\n",
              "        const dataTable =\n",
              "          await google.colab.kernel.invokeFunction('convertToInteractive',\n",
              "                                                    [key], {});\n",
              "        if (!dataTable) return;\n",
              "\n",
              "        const docLinkHtml = 'Like what you see? Visit the ' +\n",
              "          '<a target=\"_blank\" href=https://colab.research.google.com/notebooks/data_table.ipynb>data table notebook</a>'\n",
              "          + ' to learn more about interactive tables.';\n",
              "        element.innerHTML = '';\n",
              "        dataTable['output_type'] = 'display_data';\n",
              "        await google.colab.output.renderOutput(dataTable, element);\n",
              "        const docLink = document.createElement('div');\n",
              "        docLink.innerHTML = docLinkHtml;\n",
              "        element.appendChild(docLink);\n",
              "      }\n",
              "    </script>\n",
              "  </div>\n",
              "\n",
              "\n",
              "    </div>\n",
              "  </div>\n"
            ],
            "application/vnd.google.colaboratory.intrinsic+json": {
              "type": "dataframe"
            }
          },
          "metadata": {}
        }
      ]
    },
    {
      "cell_type": "code",
      "source": [],
      "metadata": {
        "id": "dBi0IuEViSYA"
      },
      "execution_count": null,
      "outputs": []
    }
  ]
}